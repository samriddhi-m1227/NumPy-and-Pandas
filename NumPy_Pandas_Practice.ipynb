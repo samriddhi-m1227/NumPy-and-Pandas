{
 "cells": [
  {
   "cell_type": "markdown",
   "id": "b3c5a91f-8958-46ab-877a-8a18d1637b1e",
   "metadata": {},
   "source": [
    "## NumPy Practice Questions"
   ]
  },
  {
   "cell_type": "code",
   "execution_count": 2,
   "id": "bb43a13a-47f2-4a57-b09c-4f7cb06fb6cd",
   "metadata": {},
   "outputs": [],
   "source": [
    "import numpy as np"
   ]
  },
  {
   "cell_type": "markdown",
   "id": "f6c03fec-bd4a-4ee1-afaa-ff5115e6a853",
   "metadata": {},
   "source": [
    "1. Array Creation: Create a NumPy array of integers from 1 to 10"
   ]
  },
  {
   "cell_type": "code",
   "execution_count": 6,
   "id": "238b94fc-099b-4d8b-9db2-9915b359fc7f",
   "metadata": {},
   "outputs": [
    {
     "name": "stdout",
     "output_type": "stream",
     "text": [
      "[ 0  1  2  3  4  5  6  7  8  9 10]\n"
     ]
    }
   ],
   "source": [
    "arr1=np.arange(11)\n",
    "print(arr1)"
   ]
  },
  {
   "cell_type": "markdown",
   "id": "a74779ba-2674-4f67-8c9d-cb5fde062dbf",
   "metadata": {},
   "source": [
    "2. Array Operations: Perform element-wise addition, subtraction, multiplication, and\n",
    "division on two NumPy arrays."
   ]
  },
  {
   "cell_type": "code",
   "execution_count": 13,
   "id": "ee187927-4454-428c-82e2-4f7f137ba90a",
   "metadata": {},
   "outputs": [
    {
     "name": "stdout",
     "output_type": "stream",
     "text": [
      "[ 3  7 11 15]\n",
      "[1 1 1 1]\n",
      "[ 2 12 30 56]\n",
      "[2.         1.33333333 1.2        1.14285714]\n"
     ]
    }
   ],
   "source": [
    "arr2=np.array([2,4,6,8])\n",
    "arr3=np.array([1,3,5,7])\n",
    "\n",
    "#Element-wise addition\n",
    "arr_add= arr2+arr3\n",
    "print(arr_add)\n",
    "\n",
    "#Element wise subtraction\n",
    "arr_sub= arr2-arr3\n",
    "print(arr_sub)\n",
    "\n",
    "#Element-wise multiplication\n",
    "arr_multi=arr2*arr3\n",
    "print(arr_multi)\n",
    "\n",
    "#Element-wise division\n",
    "arr_div=arr2/arr3\n",
    "print(arr_div)\n"
   ]
  },
  {
   "cell_type": "markdown",
   "id": "58a1764c-30d8-4ceb-b3d3-21f6e91b1913",
   "metadata": {},
   "source": [
    "3. Array Slicing: Extract the first three elements from a NumPy array."
   ]
  },
  {
   "cell_type": "code",
   "execution_count": 14,
   "id": "4bff6ea3-487d-415d-a1fe-9617e708aee3",
   "metadata": {},
   "outputs": [
    {
     "name": "stdout",
     "output_type": "stream",
     "text": [
      "[ 2 12 30]\n"
     ]
    }
   ],
   "source": [
    "print(arr_multi[0:3])"
   ]
  },
  {
   "cell_type": "markdown",
   "id": "b4bc003c-2874-4820-9f15-e761095f98d3",
   "metadata": {},
   "source": [
    "4. Array Reshaping: Reshape a 1D NumPy array into a 2D array with 2 rows and 3\n",
    "columns."
   ]
  },
  {
   "cell_type": "code",
   "execution_count": 17,
   "id": "616ed8c8-84ce-4e62-bbad-3b9ed729344d",
   "metadata": {},
   "outputs": [
    {
     "name": "stdout",
     "output_type": "stream",
     "text": [
      "[[0 1 2]\n",
      " [3 4 5]]\n"
     ]
    }
   ],
   "source": [
    "arr4=np.arange(6).reshape(2,3)\n",
    "print(arr4)"
   ]
  },
  {
   "cell_type": "markdown",
   "id": "63a50ca1-0353-4938-a3c4-fbf5ac2b976b",
   "metadata": {},
   "source": [
    "5. Array Aggregation: Calculate the mean, median, and standard deviation of a NumPy\n",
    "array"
   ]
  },
  {
   "cell_type": "code",
   "execution_count": 27,
   "id": "f14c0832-9d29-4ff7-b0a2-b919982f86c5",
   "metadata": {},
   "outputs": [
    {
     "name": "stdout",
     "output_type": "stream",
     "text": [
      "Mean value:  5.0\n",
      "Median value:  5.0\n",
      "Standard deviation:  3.1622776601683795\n"
     ]
    }
   ],
   "source": [
    "arr5=np.mean(arr1)\n",
    "print('Mean value: ',arr5)\n",
    "\n",
    "arr5=np.median(arr1)\n",
    "print('Median value: ',arr5)\n",
    "\n",
    "arr5=np.std(arr1)\n",
    "print('Standard deviation: ',arr5)\n"
   ]
  },
  {
   "cell_type": "markdown",
   "id": "1501226d-611a-43ba-842d-df3d787519ee",
   "metadata": {},
   "source": [
    "## Pandas Practice Questions"
   ]
  },
  {
   "cell_type": "code",
   "execution_count": 28,
   "id": "360bfcec-8fbb-47a4-aed9-d7477f62e702",
   "metadata": {},
   "outputs": [],
   "source": [
    "import pandas as pd"
   ]
  },
  {
   "cell_type": "markdown",
   "id": "baa4191e-35c0-442e-8390-e6b51058b5f4",
   "metadata": {},
   "source": [
    "1. DataFrame Creation: Create a pandas DataFrame from a dictionary of lists, where\n",
    "each list represents a column."
   ]
  },
  {
   "cell_type": "code",
   "execution_count": 30,
   "id": "ff6f4194-5c3f-4125-9442-a1d477c8c862",
   "metadata": {},
   "outputs": [
    {
     "name": "stdout",
     "output_type": "stream",
     "text": [
      "     Name  Age  Level\n",
      "0     Sam   19      5\n",
      "1   Alice   22      2\n",
      "2  Sophie   27      1\n"
     ]
    }
   ],
   "source": [
    "#Dictionary of Lists \n",
    "data= { 'Name': ['Sam','Alice','Sophie'], 'Age': [19, 22, 27], 'Level': [5,2,1]}\n",
    "df1=pd.DataFrame(data)\n",
    "print(df1)"
   ]
  },
  {
   "cell_type": "markdown",
   "id": "5161690c-bc37-4742-8eda-98b10d43864b",
   "metadata": {},
   "source": [
    "2. DataFrame Operations: Add a new column to an existing DataFrame. Perform\n",
    "element-wise operations between two columns."
   ]
  },
  {
   "cell_type": "code",
   "execution_count": 38,
   "id": "64448f1f-2b38-4408-bab2-f6341eb69a1d",
   "metadata": {},
   "outputs": [
    {
     "name": "stdout",
     "output_type": "stream",
     "text": [
      "     Name  Age  Level  Gender\n",
      "0     Sam   19      5  Female\n",
      "1   Alice   22      2  Female\n",
      "2  Sophie   27      1  Female\n",
      "     Name  Age  Level  Gender  AgeLevel Product\n",
      "0     Sam   19      5  Female                95\n",
      "1   Alice   22      2  Female                44\n",
      "2  Sophie   27      1  Female                27\n"
     ]
    }
   ],
   "source": [
    "#Adding column Gender to the DataFrame\n",
    "df1['Gender']=['Female', 'Female', 'Female']\n",
    "print(df1)\n",
    "\n",
    "#Element-wise operations between two columns\n",
    "df1['AgeLevel Product']=df1['Age']*df1['Level']\n",
    "print(df1)"
   ]
  },
  {
   "cell_type": "markdown",
   "id": "cd75d364-04a6-45c0-8aa4-d61400429ba4",
   "metadata": {},
   "source": [
    "3. Data Selection: Select rows based on a condition. Select specific columns from a\n",
    "DataFrame"
   ]
  },
  {
   "cell_type": "code",
   "execution_count": 40,
   "id": "9282035a-6373-47c5-8f5e-518248f5aba8",
   "metadata": {},
   "outputs": [
    {
     "name": "stdout",
     "output_type": "stream",
     "text": [
      "     Name  Age  Level  Gender  AgeLevel Product\n",
      "1   Alice   22      2  Female                44\n",
      "2  Sophie   27      1  Female                27\n",
      "0    Female\n",
      "1    Female\n",
      "2    Female\n",
      "Name: Gender, dtype: object\n"
     ]
    }
   ],
   "source": [
    "#select rows based on a condition\n",
    "df1_filterAge=df1[df1['Age']>20]\n",
    "print(df1_filterAge)\n",
    "\n",
    "#select specific column from DataFrame\n",
    "gender=df1['Gender']\n",
    "print(gender)"
   ]
  },
  {
   "cell_type": "markdown",
   "id": "64612eb6-3e67-4551-b0bd-ad46635186c4",
   "metadata": {},
   "source": [
    "4. Data Aggregation: Group the data in a DataFrame based on a categorical column and\n",
    "calculate the mean of each group."
   ]
  },
  {
   "cell_type": "code",
   "execution_count": 42,
   "id": "bda6852c-ce1d-4d95-9700-769316c2e495",
   "metadata": {},
   "outputs": [
    {
     "name": "stdout",
     "output_type": "stream",
     "text": [
      "<pandas.core.groupby.generic.DataFrameGroupBy object at 0x000002375F3E8D50>\n",
      "Age\n",
      "19    19.0\n",
      "22    22.0\n",
      "27    27.0\n",
      "Name: Age, dtype: float64\n"
     ]
    }
   ],
   "source": [
    "#Group by a specific column\n",
    "groupAge= df1.groupby('Age')\n",
    "print(groupAge)\n",
    "\n",
    "#Calculated mean of column\n",
    "mean_age=groupAge['Age'].mean()\n",
    "print(mean_age)"
   ]
  },
  {
   "cell_type": "markdown",
   "id": "17550f16-d725-4f02-b768-3f644458f8dd",
   "metadata": {},
   "source": [
    "5. Data Cleaning: Handle missing values by either removing or replacing them with\n",
    "appropriate values."
   ]
  },
  {
   "cell_type": "code",
   "execution_count": 43,
   "id": "184a6f1c-2575-47f4-ace7-af7325b95542",
   "metadata": {},
   "outputs": [
    {
     "name": "stdout",
     "output_type": "stream",
     "text": [
      "Name                False\n",
      "Age                 False\n",
      "Level               False\n",
      "Gender              False\n",
      "AgeLevel Product    False\n",
      "dtype: bool\n"
     ]
    }
   ],
   "source": [
    "# Drop missing values\n",
    "df1_cleaned = df1.dropna()\n",
    "\n",
    "# Fill missing values\n",
    "df1_filled = df1.fillna(0)\n",
    "\n",
    "# Check for missing values\n",
    "print(df1.isnull().any())\n"
   ]
  },
  {
   "cell_type": "markdown",
   "id": "99ce0826-28ea-42b0-8523-4570cb3a3ab9",
   "metadata": {},
   "source": [
    "## Technical Level Questions and Exercises"
   ]
  },
  {
   "cell_type": "code",
   "execution_count": 45,
   "id": "908692a3-f9e5-4013-9bc9-2a86ccf586db",
   "metadata": {},
   "outputs": [],
   "source": [
    "###Implementing Matrix Operations: Matrix Multiplication\n",
    "\n",
    "import numpy as np\n",
    "\n",
    "# Create two matrices\n",
    "A = np.array([[1, 2], [3, 4]])\n",
    "B = np.array([[5, 6], [7, 8]])"
   ]
  },
  {
   "cell_type": "code",
   "execution_count": 48,
   "id": "b661e224-f33f-48dd-8194-322bddc9382a",
   "metadata": {},
   "outputs": [
    {
     "name": "stdout",
     "output_type": "stream",
     "text": [
      "[[19 22]\n",
      " [43 50]]\n"
     ]
    }
   ],
   "source": [
    "## Question: Multiply matrices A and B (linear algebra)\n",
    "\n",
    "# Answer\n",
    "C=np.dot(A,B)\n",
    "print(C)"
   ]
  },
  {
   "cell_type": "code",
   "execution_count": 50,
   "id": "a47df6bf-01b8-4d28-a2c8-43c2da63c951",
   "metadata": {},
   "outputs": [
    {
     "name": "stdout",
     "output_type": "stream",
     "text": [
      "[[-2.   1. ]\n",
      " [ 1.5 -0.5]]\n"
     ]
    }
   ],
   "source": [
    "## Question: Matrix Inversion - Find the inverse of matrix A.\n",
    "\n",
    "# Answer\n",
    "inverseA= np.linalg.inv(A)\n",
    "print(inverseA)"
   ]
  },
  {
   "cell_type": "code",
   "execution_count": 52,
   "id": "78275254-2e87-4fd1-a251-650c2339b82a",
   "metadata": {},
   "outputs": [
    {
     "name": "stdout",
     "output_type": "stream",
     "text": [
      "[-0.37228132  5.37228132]\n",
      "\n",
      "[[-0.82456484 -0.41597356]\n",
      " [ 0.56576746 -0.90937671]]\n"
     ]
    }
   ],
   "source": [
    "## Question: Calculate the eigenvalues and eigenvectors of matrix A.\n",
    "\n",
    "# Answer\n",
    "eigenvalues, eigenvectors = np.linalg.eig(A)\n",
    "print(eigenvalues) \n",
    "print()\n",
    "print(eigenvectors) "
   ]
  },
  {
   "cell_type": "code",
   "execution_count": 54,
   "id": "dd38d9e8-f30d-4926-80b4-36c785dbd6c4",
   "metadata": {},
   "outputs": [
    {
     "name": "stdout",
     "output_type": "stream",
     "text": [
      "[2. 3.]\n"
     ]
    }
   ],
   "source": [
    "## Question: Solve the system of equations 3x + y = 9 and x + 2y = 8.\n",
    "\n",
    "# Solving a system of linear equations\n",
    "A = np.array([[3, 1], [1, 2]])  #left hand side \n",
    "b = np.array([9, 8])            #right hand side\n",
    "x = np.linalg.solve(A, b)\n",
    "\n",
    "\n",
    "# Answer\n",
    "x = np.linalg.solve(A, b)\n",
    "print(x) # Output: [2. 3.]"
   ]
  },
  {
   "cell_type": "code",
   "execution_count": 55,
   "id": "c81f9178-be30-487f-904a-4ec3a6625fe6",
   "metadata": {},
   "outputs": [
    {
     "name": "stdout",
     "output_type": "stream",
     "text": [
      "Array:\n",
      "[[1 2 3]\n",
      " [4 5 6]\n",
      " [7 8 9]]\n",
      "\n",
      "Selected Elements:\n",
      "[4 8]\n"
     ]
    }
   ],
   "source": [
    "import numpy as np\n",
    "\n",
    "# Define the 2D array\n",
    "arr15 = np.array([[1, 2, 3],\n",
    "                  [4, 5, 6],\n",
    "                  [7, 8, 9]])\n",
    "\n",
    "print(\"Array:\")\n",
    "print(arr15)\n",
    "\n",
    "#Define row and column indices\n",
    "#reads as row 1 column 0 and row 2 column 1\n",
    "row_indices = np.array([1, 2])\n",
    "column_indices = np.array([0, 1])\n",
    "\n",
    "# Use a tuple for fancy indexing\n",
    "selected_elements = arr15[(row_indices, column_indices)]\n",
    "\n",
    "print(\"\\nSelected Elements:\")\n",
    "print(selected_elements)"
   ]
  }
 ],
 "metadata": {
  "kernelspec": {
   "display_name": "Python 3 (ipykernel)",
   "language": "python",
   "name": "python3"
  },
  "language_info": {
   "codemirror_mode": {
    "name": "ipython",
    "version": 3
   },
   "file_extension": ".py",
   "mimetype": "text/x-python",
   "name": "python",
   "nbconvert_exporter": "python",
   "pygments_lexer": "ipython3",
   "version": "3.11.7"
  }
 },
 "nbformat": 4,
 "nbformat_minor": 5
}
