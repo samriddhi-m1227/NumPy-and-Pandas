{
 "cells": [
  {
   "cell_type": "markdown",
   "id": "2fb48361-0ffb-4a71-acca-b1866a58085a",
   "metadata": {},
   "source": [
    "## Introduction to NumPy"
   ]
  },
  {
   "cell_type": "code",
   "execution_count": 2,
   "id": "1aa1a5d1-5814-4bd6-8a83-83bddf3eb655",
   "metadata": {},
   "outputs": [],
   "source": [
    "#Installation and setup\n",
    "#pip install numpy"
   ]
  },
  {
   "cell_type": "markdown",
   "id": "499d1ae6-c57c-4bed-bbff-e9e95f463f04",
   "metadata": {},
   "source": [
    "### Creating NumPy arrays"
   ]
  },
  {
   "cell_type": "code",
   "execution_count": 3,
   "id": "41859c25-6827-44da-b73e-995fadc161d8",
   "metadata": {},
   "outputs": [
    {
     "name": "stdout",
     "output_type": "stream",
     "text": [
      "[1 2 3 4 5]\n",
      "[0. 0. 0. 0. 0.]\n",
      "[[1. 1. 1.]\n",
      " [1. 1. 1.]\n",
      " [1. 1. 1.]]\n",
      "[0 2 4 6 8]\n",
      "[[0.58328518 0.12901761 0.03907685]\n",
      " [0.83383585 0.90688375 0.26726554]\n",
      " [0.30669582 0.33124307 0.08063788]]\n"
     ]
    }
   ],
   "source": [
    "#Creating NumPy arrays\n",
    "import numpy as np\n",
    "\n",
    "#Create an array from a list\n",
    "arr1=np.array([1,2,3,4,5])\n",
    "print(arr1)\n",
    "\n",
    "#Create an array of zeros\n",
    "arr2=np.zeros(5)\n",
    "print(arr2)\n",
    "\n",
    "# Create an array of ones\n",
    "arr3 = np.ones((3, 3))\n",
    "print(arr3)\n",
    "\n",
    "# Create an array of evenly spaced values\n",
    "arr4 = np.arange(0, 10, 2)   #Starts at 0, goes until 10 (exclusive) by intervals of 2\n",
    "print(arr4)\n",
    "\n",
    "# Create an array of random values\n",
    "arr5 = np.random.rand(3, 3)\n",
    "print(arr5)"
   ]
  },
  {
   "cell_type": "code",
   "execution_count": 4,
   "id": "59a770e6-169b-472e-bfaf-95c915dbf08d",
   "metadata": {},
   "outputs": [
    {
     "name": "stdout",
     "output_type": "stream",
     "text": [
      "(5,)\n",
      "5\n",
      "int32\n"
     ]
    }
   ],
   "source": [
    "#Array attributes: shape,size, dtype\n",
    "\n",
    "#Shape of the array\n",
    "print(arr1.shape)\n",
    "\n",
    "#Size of the array\n",
    "print(arr1.size)\n",
    "\n",
    "#Data type of the array\n",
    "print(arr1.dtype)"
   ]
  },
  {
   "cell_type": "code",
   "execution_count": 5,
   "id": "5fb8b161-a23b-42e7-81e1-4a926342ea46",
   "metadata": {},
   "outputs": [
    {
     "name": "stdout",
     "output_type": "stream",
     "text": [
      "1\n",
      "[2 3 4]\n"
     ]
    }
   ],
   "source": [
    "#Indexing and slicing arrays\n",
    "\n",
    "# Accessing elements\n",
    "print(arr1[0])\n",
    "\n",
    "# Slicing\n",
    "print(arr1[1:4])\n"
   ]
  },
  {
   "cell_type": "code",
   "execution_count": 6,
   "id": "31c3502e-1ca0-4cbe-83c1-396abdb8b656",
   "metadata": {},
   "outputs": [
    {
     "name": "stdout",
     "output_type": "stream",
     "text": [
      "[1. 2. 3. 4. 5.]\n",
      "15\n",
      "[ 2  4  6  8 10]\n"
     ]
    }
   ],
   "source": [
    "#Array operations: arithmetic, aggregation, broadcasting\n",
    "\n",
    "# Arithmetic operations\n",
    "arr6 = arr1 + arr2\n",
    "print(arr6)\n",
    "\n",
    "# Aggregation functions\n",
    "print(np.sum(arr1))\n",
    "\n",
    "# Broadcasting\n",
    "arr7 = arr1 * 2\n",
    "print(arr7)\n"
   ]
  },
  {
   "cell_type": "markdown",
   "id": "b3e720b8-1c90-40ea-bdc2-43eef53444e9",
   "metadata": {},
   "source": [
    "### Array Manipulation"
   ]
  },
  {
   "cell_type": "code",
   "execution_count": 7,
   "id": "a202b453-29b2-42fe-a92d-da090fac0298",
   "metadata": {},
   "outputs": [
    {
     "name": "stdout",
     "output_type": "stream",
     "text": [
      "[[0 1 2]\n",
      " [3 4 5]\n",
      " [6 7 8]]\n"
     ]
    }
   ],
   "source": [
    "#Reshaping arrays\n",
    "\n",
    "# Reshape array\n",
    "arr8 = np.arange(9).reshape(3, 3)   #starts at 0 goes upto 9(excluding) and reshapes as 3x3\n",
    "print(arr8)"
   ]
  },
  {
   "cell_type": "code",
   "execution_count": 8,
   "id": "2ab56708-a832-46a9-b380-75d75594e867",
   "metadata": {},
   "outputs": [
    {
     "name": "stdout",
     "output_type": "stream",
     "text": [
      "[[0 1 2]\n",
      " [3 4 5]\n",
      " [6 7 8]\n",
      " [0 1 2]\n",
      " [3 4 5]\n",
      " [6 7 8]]\n",
      "[[0 1 2]\n",
      " [3 4 5]\n",
      " [6 7 8]] [[0 1 2]\n",
      " [3 4 5]\n",
      " [6 7 8]]\n"
     ]
    }
   ],
   "source": [
    "#Stacking and splitting arrays\n",
    "# Stacking arrays vertically\n",
    "arr9 = np.vstack((arr8, arr8))\n",
    "print(arr9)\n",
    "\n",
    "# Splitting arrays\n",
    "arr10, arr11 = np.split(arr9, 2)\n",
    "print(arr10, arr11)"
   ]
  },
  {
   "cell_type": "code",
   "execution_count": 9,
   "id": "2dba565f-2825-42a0-be49-997b2701c85b",
   "metadata": {},
   "outputs": [
    {
     "name": "stdout",
     "output_type": "stream",
     "text": [
      "[[0 3 6]\n",
      " [1 4 7]\n",
      " [2 5 8]]\n"
     ]
    }
   ],
   "source": [
    "#Transposing arrays\n",
    "# Transpose array\n",
    "arr12 = arr8.T\n",
    "print(arr12)"
   ]
  },
  {
   "cell_type": "code",
   "execution_count": 10,
   "id": "6a309870-42b3-43fd-a067-7e95541716b3",
   "metadata": {},
   "outputs": [
    {
     "name": "stdout",
     "output_type": "stream",
     "text": [
      "[ 0.84147098  0.90929743  0.14112001 -0.7568025  -0.95892427]\n"
     ]
    }
   ],
   "source": [
    "#Universal functions (ufuncs)\n",
    "# Universal functions\n",
    "arr13 = np.sin(arr1)\n",
    "print(arr13)\n"
   ]
  },
  {
   "cell_type": "markdown",
   "id": "6b254fb2-2072-4112-846c-a7780d7a44f4",
   "metadata": {},
   "source": [
    "### Advanced NumPy"
   ]
  },
  {
   "cell_type": "code",
   "execution_count": 11,
   "id": "231a702c-3e48-47b1-b447-f8f837ca4ae8",
   "metadata": {},
   "outputs": [
    {
     "name": "stdout",
     "output_type": "stream",
     "text": [
      "[1 3 5]\n"
     ]
    }
   ],
   "source": [
    "# Fancy indexing\n",
    "indices = np.array([0, 2, 4])  #make the indices that you want to get from arr1\n",
    "print(arr1[indices])\n"
   ]
  },
  {
   "cell_type": "code",
   "execution_count": 12,
   "id": "0c53e324-8e21-4833-9c36-e8586288ac40",
   "metadata": {},
   "outputs": [
    {
     "name": "stdout",
     "output_type": "stream",
     "text": [
      "[4 5]\n"
     ]
    }
   ],
   "source": [
    "# Boolean indexing\n",
    "bool_arr = arr1 > 3\n",
    "print(arr1[bool_arr])"
   ]
  },
  {
   "cell_type": "code",
   "execution_count": 13,
   "id": "d61eb9fe-a0b9-4c81-9c6b-767f32f613b3",
   "metadata": {},
   "outputs": [
    {
     "name": "stdout",
     "output_type": "stream",
     "text": [
      "[11 12 13 14 15]\n"
     ]
    }
   ],
   "source": [
    "# Vectorized operations\n",
    "arr14 = arr1 + 10\n",
    "print(arr14)\n"
   ]
  },
  {
   "cell_type": "code",
   "execution_count": 14,
   "id": "e41d390b-f715-45f2-9eef-310a4f563455",
   "metadata": {},
   "outputs": [
    {
     "name": "stdout",
     "output_type": "stream",
     "text": [
      "[[11 12 13 14 15]\n",
      " [21 22 23 24 25]\n",
      " [31 32 33 34 35]\n",
      " [41 42 43 44 45]\n",
      " [51 52 53 54 55]]\n"
     ]
    }
   ],
   "source": [
    "# Broadcasting\n",
    "arr15 = arr1 + np.array([[10], [20], [30], [40], [50]])\n",
    "print(arr15)"
   ]
  },
  {
   "cell_type": "markdown",
   "id": "927f6867-c7fd-4493-8188-24060a7c3a76",
   "metadata": {},
   "source": [
    "## Introduction to Pandas"
   ]
  },
  {
   "cell_type": "code",
   "execution_count": 15,
   "id": "88be7157-eeed-4d5d-92e5-ef869cb84f16",
   "metadata": {},
   "outputs": [],
   "source": [
    "#Installation and setup\n",
    "#pip install pandas "
   ]
  },
  {
   "cell_type": "markdown",
   "id": "1b7ea5f4-9c9d-470a-ad2d-9a7bd0b3fd90",
   "metadata": {},
   "source": [
    "#### Working with Series"
   ]
  },
  {
   "cell_type": "code",
   "execution_count": 16,
   "id": "69ec0b7f-a921-4f84-89bc-9c55852ae7c6",
   "metadata": {},
   "outputs": [
    {
     "name": "stdout",
     "output_type": "stream",
     "text": [
      "0    1\n",
      "1    2\n",
      "2    3\n",
      "3    4\n",
      "4    5\n",
      "dtype: int64\n",
      "0    1\n",
      "1    2\n",
      "2    3\n",
      "3    4\n",
      "4    5\n",
      "dtype: int32\n",
      "a    1\n",
      "b    2\n",
      "c    3\n",
      "dtype: int64\n"
     ]
    }
   ],
   "source": [
    "#Creating Series objects\n",
    "\n",
    "import pandas as pd\n",
    "import numpy as np\n",
    "\n",
    "# Create Series from a list\n",
    "s1 = pd.Series([1, 2, 3, 4, 5])\n",
    "print(s1)\n",
    "\n",
    "# Create Series from an array\n",
    "s2 = pd.Series(np.array([1, 2, 3, 4, 5]))\n",
    "print(s2)\n",
    "\n",
    "# Create Series from a dictionary\n",
    "s3 = pd.Series({'a': 1, 'b': 2, 'c': 3})\n",
    "print(s3)"
   ]
  },
  {
   "cell_type": "code",
   "execution_count": 18,
   "id": "40c22254-ed3e-4ed4-a5fa-9493845c22a7",
   "metadata": {},
   "outputs": [
    {
     "name": "stdout",
     "output_type": "stream",
     "text": [
      "1\n",
      "2\n",
      "a    1\n",
      "b    2\n",
      "dtype: int64\n"
     ]
    },
    {
     "name": "stderr",
     "output_type": "stream",
     "text": [
      "C:\\Users\\samri\\AppData\\Local\\Temp\\ipykernel_14676\\2295010015.py:7: FutureWarning: Series.__getitem__ treating keys as positions is deprecated. In a future version, integer keys will always be treated as labels (consistent with DataFrame behavior). To access a value by position, use `ser.iloc[pos]`\n",
      "  print(s3[1])\n"
     ]
    }
   ],
   "source": [
    "#Indexing and slicing Series\n",
    "\n",
    "# Accessing elements by label\n",
    "print(s3['a'])\n",
    "\n",
    "# Accessing elements by position\n",
    "print(s3[0])\n",
    "\n",
    "# Slicing\n",
    "print(s3[:2])"
   ]
  },
  {
   "cell_type": "code",
   "execution_count": 21,
   "id": "aa79187f-efd8-4b97-aabf-b81963cb7d96",
   "metadata": {},
   "outputs": [
    {
     "name": "stdout",
     "output_type": "stream",
     "text": [
      "0     2\n",
      "1     4\n",
      "2     6\n",
      "3     8\n",
      "4    10\n",
      "dtype: int64\n",
      "0     2\n",
      "1     4\n",
      "2     6\n",
      "3     8\n",
      "4    10\n",
      "dtype: int64\n",
      "15\n"
     ]
    }
   ],
   "source": [
    "#Operations on Series\n",
    "\n",
    "# Arithmetic operations\n",
    "s4 = s1 + s2\n",
    "print(s4)\n",
    "\n",
    "# Element-wise operations\n",
    "s5 = s1 * 2\n",
    "print(s5)\n",
    "\n",
    "# Aggregation functions\n",
    "print(s1.sum())"
   ]
  },
  {
   "cell_type": "code",
   "execution_count": 24,
   "id": "fb42e0d4-786e-4830-ae3f-a1704a00a568",
   "metadata": {},
   "outputs": [
    {
     "name": "stdout",
     "output_type": "stream",
     "text": [
      "0    False\n",
      "1    False\n",
      "2    False\n",
      "3    False\n",
      "4    False\n",
      "dtype: bool\n"
     ]
    }
   ],
   "source": [
    "#Handling missing data\n",
    "\n",
    "# Drop missing values\n",
    "s6 = s1.dropna()\n",
    "\n",
    "# Fill missing values\n",
    "s7 = s1.fillna(0)\n",
    "\n",
    "# Check for missing values\n",
    "print(s1.isnull())\n"
   ]
  },
  {
   "cell_type": "markdown",
   "id": "98581518-75d3-4ba0-b890-f404017c76ff",
   "metadata": {},
   "source": [
    "### Working with DataFrames"
   ]
  },
  {
   "cell_type": "code",
   "execution_count": 27,
   "id": "97e00263-e743-415c-bb15-8f2058e3bcb5",
   "metadata": {},
   "outputs": [
    {
     "name": "stdout",
     "output_type": "stream",
     "text": [
      "      Name  Age\n",
      "0    Alice   25\n",
      "1      Bob   30\n",
      "2  Charlie   35\n",
      "      Name  Age\n",
      "0    Alice   25\n",
      "1      Bob   30\n",
      "2  Charlie   35\n"
     ]
    }
   ],
   "source": [
    "#Creating DataFrames\n",
    "\n",
    "# Create DataFrame from a dictionary\n",
    "data = {'Name': ['Alice', 'Bob', 'Charlie'],\n",
    " 'Age': [25, 30, 35]}\n",
    "df1 = pd.DataFrame(data)\n",
    "print(df1)\n",
    "\n",
    "# Create DataFrame from a list of lists\n",
    "data = [['Alice', 25], ['Bob', 30], ['Charlie', 35]]\n",
    "df2 = pd.DataFrame(data, columns=['Name', 'Age'])\n",
    "print(df2)"
   ]
  },
  {
   "cell_type": "code",
   "execution_count": 28,
   "id": "955d6da4-1e85-49e6-be38-18bbbaeb79a3",
   "metadata": {},
   "outputs": [
    {
     "name": "stdout",
     "output_type": "stream",
     "text": [
      "Alice\n",
      "Alice\n",
      "    Name  Age\n",
      "0  Alice   25\n",
      "1    Bob   30\n"
     ]
    }
   ],
   "source": [
    "#Indexing and slicing DataFrames\n",
    "\n",
    "# Label-based indexing\n",
    "print(df1.loc[0, 'Name'])\n",
    "\n",
    "# Position-based indexing\n",
    "print(df1.iloc[0, 0])\n",
    "\n",
    "# Slicing\n",
    "print(df1[:2])"
   ]
  },
  {
   "cell_type": "code",
   "execution_count": 29,
   "id": "a2a42de0-cd0c-45d0-b994-b44718abbd1e",
   "metadata": {},
   "outputs": [
    {
     "name": "stdout",
     "output_type": "stream",
     "text": [
      "      Name  Age\n",
      "0    Alice   25\n",
      "1      Bob   30\n",
      "2  Charlie   35\n",
      "      Name  Age\n",
      "2  Charlie   35\n",
      "0      Alice\n",
      "1        Bob\n",
      "2    Charlie\n",
      "Name: Name, dtype: object\n"
     ]
    }
   ],
   "source": [
    "#Basic operations\n",
    "\n",
    "# Sorting\n",
    "df1_sorted = df1.sort_values(by='Age')\n",
    "print(df1_sorted)   \n",
    "\n",
    "# Filtering\n",
    "df1_filtered = df1[df1['Age'] > 30]\n",
    "print(df1_filtered)\n",
    "\n",
    "# Selecting columns\n",
    "names = df1['Name']\n",
    "print(names)"
   ]
  },
  {
   "cell_type": "code",
   "execution_count": 36,
   "id": "9d4fbf11-3c9c-4176-a879-736c0be0ea33",
   "metadata": {},
   "outputs": [],
   "source": [
    "#Data manipulation\n",
    "\n",
    "# Adding a column\n",
    "df1['Gender'] = ['Female', 'Male', 'Male']\n",
    "\n",
    "# Deleting a column\n",
    "del df1['Gender']\n",
    "\n",
    "# Updating a column\n",
    "df1['Age'] = df1['Age'] + 1"
   ]
  },
  {
   "cell_type": "markdown",
   "id": "d1b89605-fd22-4b04-9d8f-7d3e953b6019",
   "metadata": {},
   "source": [
    "### Data Cleaning and Preparation"
   ]
  },
  {
   "cell_type": "code",
   "execution_count": 37,
   "id": "11357940-f71f-40a1-bc4d-afb334865b32",
   "metadata": {},
   "outputs": [
    {
     "name": "stdout",
     "output_type": "stream",
     "text": [
      "Name    False\n",
      "Age     False\n",
      "dtype: bool\n"
     ]
    }
   ],
   "source": [
    "#Handling missing values\n",
    "\n",
    "# Drop missing values\n",
    "df1_cleaned = df1.dropna()\n",
    "\n",
    "# Fill missing values\n",
    "df1_filled = df1.fillna(0)\n",
    "\n",
    "# Check for missing values\n",
    "print(df1.isnull().any())"
   ]
  },
  {
   "cell_type": "code",
   "execution_count": 41,
   "id": "3a5fca0a-9b10-48c6-bf7d-307f8c35c06a",
   "metadata": {},
   "outputs": [
    {
     "ename": "TypeError",
     "evalue": "unsupported operand type(s) for -: 'str' and 'str'",
     "output_type": "error",
     "traceback": [
      "\u001b[1;31m---------------------------------------------------------------------------\u001b[0m",
      "\u001b[1;31mTypeError\u001b[0m                                 Traceback (most recent call last)",
      "File \u001b[1;32m~\\anaconda3\\Lib\\site-packages\\pandas\\core\\ops\\array_ops.py:220\u001b[0m, in \u001b[0;36m_na_arithmetic_op\u001b[1;34m(left, right, op, is_cmp)\u001b[0m\n\u001b[0;32m    219\u001b[0m \u001b[38;5;28;01mtry\u001b[39;00m:\n\u001b[1;32m--> 220\u001b[0m     result \u001b[38;5;241m=\u001b[39m func(left, right)\n\u001b[0;32m    221\u001b[0m \u001b[38;5;28;01mexcept\u001b[39;00m \u001b[38;5;167;01mTypeError\u001b[39;00m:\n",
      "File \u001b[1;32m~\\anaconda3\\Lib\\site-packages\\pandas\\core\\computation\\expressions.py:242\u001b[0m, in \u001b[0;36mevaluate\u001b[1;34m(op, a, b, use_numexpr)\u001b[0m\n\u001b[0;32m    240\u001b[0m     \u001b[38;5;28;01mif\u001b[39;00m use_numexpr:\n\u001b[0;32m    241\u001b[0m         \u001b[38;5;66;03m# error: \"None\" not callable\u001b[39;00m\n\u001b[1;32m--> 242\u001b[0m         \u001b[38;5;28;01mreturn\u001b[39;00m _evaluate(op, op_str, a, b)  \u001b[38;5;66;03m# type: ignore[misc]\u001b[39;00m\n\u001b[0;32m    243\u001b[0m \u001b[38;5;28;01mreturn\u001b[39;00m _evaluate_standard(op, op_str, a, b)\n",
      "File \u001b[1;32m~\\anaconda3\\Lib\\site-packages\\pandas\\core\\computation\\expressions.py:131\u001b[0m, in \u001b[0;36m_evaluate_numexpr\u001b[1;34m(op, op_str, a, b)\u001b[0m\n\u001b[0;32m    130\u001b[0m \u001b[38;5;28;01mif\u001b[39;00m result \u001b[38;5;129;01mis\u001b[39;00m \u001b[38;5;28;01mNone\u001b[39;00m:\n\u001b[1;32m--> 131\u001b[0m     result \u001b[38;5;241m=\u001b[39m _evaluate_standard(op, op_str, a, b)\n\u001b[0;32m    133\u001b[0m \u001b[38;5;28;01mreturn\u001b[39;00m result\n",
      "File \u001b[1;32m~\\anaconda3\\Lib\\site-packages\\pandas\\core\\computation\\expressions.py:73\u001b[0m, in \u001b[0;36m_evaluate_standard\u001b[1;34m(op, op_str, a, b)\u001b[0m\n\u001b[0;32m     72\u001b[0m     _store_test_result(\u001b[38;5;28;01mFalse\u001b[39;00m)\n\u001b[1;32m---> 73\u001b[0m \u001b[38;5;28;01mreturn\u001b[39;00m op(a, b)\n",
      "\u001b[1;31mTypeError\u001b[0m: unsupported operand type(s) for -: 'str' and 'str'",
      "\nDuring handling of the above exception, another exception occurred:\n",
      "\u001b[1;31mTypeError\u001b[0m                                 Traceback (most recent call last)",
      "Cell \u001b[1;32mIn[41], line 4\u001b[0m\n\u001b[0;32m      1\u001b[0m \u001b[38;5;66;03m#Data normalization(numerical value only)\u001b[39;00m\n\u001b[0;32m      2\u001b[0m \n\u001b[0;32m      3\u001b[0m \u001b[38;5;66;03m# Min-Max normalization\u001b[39;00m\n\u001b[1;32m----> 4\u001b[0m df1_normalized \u001b[38;5;241m=\u001b[39m (df1 \u001b[38;5;241m-\u001b[39m df1\u001b[38;5;241m.\u001b[39mmin()) \u001b[38;5;241m/\u001b[39m (df1\u001b[38;5;241m.\u001b[39mmax() \u001b[38;5;241m-\u001b[39m df1\u001b[38;5;241m.\u001b[39mmin())\n\u001b[0;32m      6\u001b[0m \u001b[38;5;66;03m# Standardization\u001b[39;00m\n\u001b[0;32m      7\u001b[0m df1_standardized \u001b[38;5;241m=\u001b[39m (df1 \u001b[38;5;241m-\u001b[39m df1\u001b[38;5;241m.\u001b[39mmean()) \u001b[38;5;241m/\u001b[39m df1\u001b[38;5;241m.\u001b[39mstd()\n",
      "File \u001b[1;32m~\\anaconda3\\Lib\\site-packages\\pandas\\core\\ops\\common.py:76\u001b[0m, in \u001b[0;36m_unpack_zerodim_and_defer.<locals>.new_method\u001b[1;34m(self, other)\u001b[0m\n\u001b[0;32m     72\u001b[0m             \u001b[38;5;28;01mreturn\u001b[39;00m \u001b[38;5;28mNotImplemented\u001b[39m\n\u001b[0;32m     74\u001b[0m other \u001b[38;5;241m=\u001b[39m item_from_zerodim(other)\n\u001b[1;32m---> 76\u001b[0m \u001b[38;5;28;01mreturn\u001b[39;00m method(\u001b[38;5;28mself\u001b[39m, other)\n",
      "File \u001b[1;32m~\\anaconda3\\Lib\\site-packages\\pandas\\core\\arraylike.py:194\u001b[0m, in \u001b[0;36mOpsMixin.__sub__\u001b[1;34m(self, other)\u001b[0m\n\u001b[0;32m    192\u001b[0m \u001b[38;5;129m@unpack_zerodim_and_defer\u001b[39m(\u001b[38;5;124m\"\u001b[39m\u001b[38;5;124m__sub__\u001b[39m\u001b[38;5;124m\"\u001b[39m)\n\u001b[0;32m    193\u001b[0m \u001b[38;5;28;01mdef\u001b[39;00m \u001b[38;5;21m__sub__\u001b[39m(\u001b[38;5;28mself\u001b[39m, other):\n\u001b[1;32m--> 194\u001b[0m     \u001b[38;5;28;01mreturn\u001b[39;00m \u001b[38;5;28mself\u001b[39m\u001b[38;5;241m.\u001b[39m_arith_method(other, operator\u001b[38;5;241m.\u001b[39msub)\n",
      "File \u001b[1;32m~\\anaconda3\\Lib\\site-packages\\pandas\\core\\frame.py:7644\u001b[0m, in \u001b[0;36mDataFrame._arith_method\u001b[1;34m(self, other, op)\u001b[0m\n\u001b[0;32m   7641\u001b[0m \u001b[38;5;28mself\u001b[39m, other \u001b[38;5;241m=\u001b[39m \u001b[38;5;28mself\u001b[39m\u001b[38;5;241m.\u001b[39m_align_for_op(other, axis, flex\u001b[38;5;241m=\u001b[39m\u001b[38;5;28;01mTrue\u001b[39;00m, level\u001b[38;5;241m=\u001b[39m\u001b[38;5;28;01mNone\u001b[39;00m)\n\u001b[0;32m   7643\u001b[0m \u001b[38;5;28;01mwith\u001b[39;00m np\u001b[38;5;241m.\u001b[39merrstate(\u001b[38;5;28mall\u001b[39m\u001b[38;5;241m=\u001b[39m\u001b[38;5;124m\"\u001b[39m\u001b[38;5;124mignore\u001b[39m\u001b[38;5;124m\"\u001b[39m):\n\u001b[1;32m-> 7644\u001b[0m     new_data \u001b[38;5;241m=\u001b[39m \u001b[38;5;28mself\u001b[39m\u001b[38;5;241m.\u001b[39m_dispatch_frame_op(other, op, axis\u001b[38;5;241m=\u001b[39maxis)\n\u001b[0;32m   7645\u001b[0m \u001b[38;5;28;01mreturn\u001b[39;00m \u001b[38;5;28mself\u001b[39m\u001b[38;5;241m.\u001b[39m_construct_result(new_data)\n",
      "File \u001b[1;32m~\\anaconda3\\Lib\\site-packages\\pandas\\core\\frame.py:7687\u001b[0m, in \u001b[0;36mDataFrame._dispatch_frame_op\u001b[1;34m(self, right, func, axis)\u001b[0m\n\u001b[0;32m   7681\u001b[0m     \u001b[38;5;28;01massert\u001b[39;00m \u001b[38;5;28mself\u001b[39m\u001b[38;5;241m.\u001b[39mcolumns\u001b[38;5;241m.\u001b[39mequals(right\u001b[38;5;241m.\u001b[39mcolumns)\n\u001b[0;32m   7682\u001b[0m     \u001b[38;5;66;03m# TODO: The previous assertion `assert right._indexed_same(self)`\u001b[39;00m\n\u001b[0;32m   7683\u001b[0m     \u001b[38;5;66;03m#  fails in cases with empty columns reached via\u001b[39;00m\n\u001b[0;32m   7684\u001b[0m     \u001b[38;5;66;03m#  _frame_arith_method_with_reindex\u001b[39;00m\n\u001b[0;32m   7685\u001b[0m \n\u001b[0;32m   7686\u001b[0m     \u001b[38;5;66;03m# TODO operate_blockwise expects a manager of the same type\u001b[39;00m\n\u001b[1;32m-> 7687\u001b[0m     bm \u001b[38;5;241m=\u001b[39m \u001b[38;5;28mself\u001b[39m\u001b[38;5;241m.\u001b[39m_mgr\u001b[38;5;241m.\u001b[39moperate_blockwise(\n\u001b[0;32m   7688\u001b[0m         \u001b[38;5;66;03m# error: Argument 1 to \"operate_blockwise\" of \"ArrayManager\" has\u001b[39;00m\n\u001b[0;32m   7689\u001b[0m         \u001b[38;5;66;03m# incompatible type \"Union[ArrayManager, BlockManager]\"; expected\u001b[39;00m\n\u001b[0;32m   7690\u001b[0m         \u001b[38;5;66;03m# \"ArrayManager\"\u001b[39;00m\n\u001b[0;32m   7691\u001b[0m         \u001b[38;5;66;03m# error: Argument 1 to \"operate_blockwise\" of \"BlockManager\" has\u001b[39;00m\n\u001b[0;32m   7692\u001b[0m         \u001b[38;5;66;03m# incompatible type \"Union[ArrayManager, BlockManager]\"; expected\u001b[39;00m\n\u001b[0;32m   7693\u001b[0m         \u001b[38;5;66;03m# \"BlockManager\"\u001b[39;00m\n\u001b[0;32m   7694\u001b[0m         right\u001b[38;5;241m.\u001b[39m_mgr,  \u001b[38;5;66;03m# type: ignore[arg-type]\u001b[39;00m\n\u001b[0;32m   7695\u001b[0m         array_op,\n\u001b[0;32m   7696\u001b[0m     )\n\u001b[0;32m   7697\u001b[0m     \u001b[38;5;28;01mreturn\u001b[39;00m \u001b[38;5;28mself\u001b[39m\u001b[38;5;241m.\u001b[39m_constructor_from_mgr(bm, axes\u001b[38;5;241m=\u001b[39mbm\u001b[38;5;241m.\u001b[39maxes)\n\u001b[0;32m   7699\u001b[0m \u001b[38;5;28;01melif\u001b[39;00m \u001b[38;5;28misinstance\u001b[39m(right, Series) \u001b[38;5;129;01mand\u001b[39;00m axis \u001b[38;5;241m==\u001b[39m \u001b[38;5;241m1\u001b[39m:\n\u001b[0;32m   7700\u001b[0m     \u001b[38;5;66;03m# axis=1 means we want to operate row-by-row\u001b[39;00m\n",
      "File \u001b[1;32m~\\anaconda3\\Lib\\site-packages\\pandas\\core\\internals\\managers.py:1470\u001b[0m, in \u001b[0;36mBlockManager.operate_blockwise\u001b[1;34m(self, other, array_op)\u001b[0m\n\u001b[0;32m   1466\u001b[0m \u001b[38;5;28;01mdef\u001b[39;00m \u001b[38;5;21moperate_blockwise\u001b[39m(\u001b[38;5;28mself\u001b[39m, other: BlockManager, array_op) \u001b[38;5;241m-\u001b[39m\u001b[38;5;241m>\u001b[39m BlockManager:\n\u001b[0;32m   1467\u001b[0m \u001b[38;5;250m    \u001b[39m\u001b[38;5;124;03m\"\"\"\u001b[39;00m\n\u001b[0;32m   1468\u001b[0m \u001b[38;5;124;03m    Apply array_op blockwise with another (aligned) BlockManager.\u001b[39;00m\n\u001b[0;32m   1469\u001b[0m \u001b[38;5;124;03m    \"\"\"\u001b[39;00m\n\u001b[1;32m-> 1470\u001b[0m     \u001b[38;5;28;01mreturn\u001b[39;00m operate_blockwise(\u001b[38;5;28mself\u001b[39m, other, array_op)\n",
      "File \u001b[1;32m~\\anaconda3\\Lib\\site-packages\\pandas\\core\\internals\\ops.py:65\u001b[0m, in \u001b[0;36moperate_blockwise\u001b[1;34m(left, right, array_op)\u001b[0m\n\u001b[0;32m     63\u001b[0m res_blks: \u001b[38;5;28mlist\u001b[39m[Block] \u001b[38;5;241m=\u001b[39m []\n\u001b[0;32m     64\u001b[0m \u001b[38;5;28;01mfor\u001b[39;00m lvals, rvals, locs, left_ea, right_ea, rblk \u001b[38;5;129;01min\u001b[39;00m _iter_block_pairs(left, right):\n\u001b[1;32m---> 65\u001b[0m     res_values \u001b[38;5;241m=\u001b[39m array_op(lvals, rvals)\n\u001b[0;32m     66\u001b[0m     \u001b[38;5;28;01mif\u001b[39;00m (\n\u001b[0;32m     67\u001b[0m         left_ea\n\u001b[0;32m     68\u001b[0m         \u001b[38;5;129;01mand\u001b[39;00m \u001b[38;5;129;01mnot\u001b[39;00m right_ea\n\u001b[0;32m     69\u001b[0m         \u001b[38;5;129;01mand\u001b[39;00m \u001b[38;5;28mhasattr\u001b[39m(res_values, \u001b[38;5;124m\"\u001b[39m\u001b[38;5;124mreshape\u001b[39m\u001b[38;5;124m\"\u001b[39m)\n\u001b[0;32m     70\u001b[0m         \u001b[38;5;129;01mand\u001b[39;00m \u001b[38;5;129;01mnot\u001b[39;00m is_1d_only_ea_dtype(res_values\u001b[38;5;241m.\u001b[39mdtype)\n\u001b[0;32m     71\u001b[0m     ):\n\u001b[0;32m     72\u001b[0m         res_values \u001b[38;5;241m=\u001b[39m res_values\u001b[38;5;241m.\u001b[39mreshape(\u001b[38;5;241m1\u001b[39m, \u001b[38;5;241m-\u001b[39m\u001b[38;5;241m1\u001b[39m)\n",
      "File \u001b[1;32m~\\anaconda3\\Lib\\site-packages\\pandas\\core\\ops\\array_ops.py:285\u001b[0m, in \u001b[0;36marithmetic_op\u001b[1;34m(left, right, op)\u001b[0m\n\u001b[0;32m    281\u001b[0m     _bool_arith_check(op, left, right)  \u001b[38;5;66;03m# type: ignore[arg-type]\u001b[39;00m\n\u001b[0;32m    283\u001b[0m     \u001b[38;5;66;03m# error: Argument 1 to \"_na_arithmetic_op\" has incompatible type\u001b[39;00m\n\u001b[0;32m    284\u001b[0m     \u001b[38;5;66;03m# \"Union[ExtensionArray, ndarray[Any, Any]]\"; expected \"ndarray[Any, Any]\"\u001b[39;00m\n\u001b[1;32m--> 285\u001b[0m     res_values \u001b[38;5;241m=\u001b[39m _na_arithmetic_op(left, right, op)  \u001b[38;5;66;03m# type: ignore[arg-type]\u001b[39;00m\n\u001b[0;32m    287\u001b[0m \u001b[38;5;28;01mreturn\u001b[39;00m res_values\n",
      "File \u001b[1;32m~\\anaconda3\\Lib\\site-packages\\pandas\\core\\ops\\array_ops.py:229\u001b[0m, in \u001b[0;36m_na_arithmetic_op\u001b[1;34m(left, right, op, is_cmp)\u001b[0m\n\u001b[0;32m    221\u001b[0m \u001b[38;5;28;01mexcept\u001b[39;00m \u001b[38;5;167;01mTypeError\u001b[39;00m:\n\u001b[0;32m    222\u001b[0m     \u001b[38;5;28;01mif\u001b[39;00m \u001b[38;5;129;01mnot\u001b[39;00m is_cmp \u001b[38;5;129;01mand\u001b[39;00m (\n\u001b[0;32m    223\u001b[0m         left\u001b[38;5;241m.\u001b[39mdtype \u001b[38;5;241m==\u001b[39m \u001b[38;5;28mobject\u001b[39m \u001b[38;5;129;01mor\u001b[39;00m \u001b[38;5;28mgetattr\u001b[39m(right, \u001b[38;5;124m\"\u001b[39m\u001b[38;5;124mdtype\u001b[39m\u001b[38;5;124m\"\u001b[39m, \u001b[38;5;28;01mNone\u001b[39;00m) \u001b[38;5;241m==\u001b[39m \u001b[38;5;28mobject\u001b[39m\n\u001b[0;32m    224\u001b[0m     ):\n\u001b[1;32m   (...)\u001b[0m\n\u001b[0;32m    227\u001b[0m         \u001b[38;5;66;03m# Don't do this for comparisons, as that will handle complex numbers\u001b[39;00m\n\u001b[0;32m    228\u001b[0m         \u001b[38;5;66;03m#  incorrectly, see GH#32047\u001b[39;00m\n\u001b[1;32m--> 229\u001b[0m         result \u001b[38;5;241m=\u001b[39m _masked_arith_op(left, right, op)\n\u001b[0;32m    230\u001b[0m     \u001b[38;5;28;01melse\u001b[39;00m:\n\u001b[0;32m    231\u001b[0m         \u001b[38;5;28;01mraise\u001b[39;00m\n",
      "File \u001b[1;32m~\\anaconda3\\Lib\\site-packages\\pandas\\core\\ops\\array_ops.py:165\u001b[0m, in \u001b[0;36m_masked_arith_op\u001b[1;34m(x, y, op)\u001b[0m\n\u001b[0;32m    163\u001b[0m     \u001b[38;5;66;03m# See GH#5284, GH#5035, GH#19448 for historical reference\u001b[39;00m\n\u001b[0;32m    164\u001b[0m     \u001b[38;5;28;01mif\u001b[39;00m mask\u001b[38;5;241m.\u001b[39many():\n\u001b[1;32m--> 165\u001b[0m         result[mask] \u001b[38;5;241m=\u001b[39m op(xrav[mask], yrav[mask])\n\u001b[0;32m    167\u001b[0m \u001b[38;5;28;01melse\u001b[39;00m:\n\u001b[0;32m    168\u001b[0m     \u001b[38;5;28;01mif\u001b[39;00m \u001b[38;5;129;01mnot\u001b[39;00m is_scalar(y):\n",
      "\u001b[1;31mTypeError\u001b[0m: unsupported operand type(s) for -: 'str' and 'str'"
     ]
    }
   ],
   "source": [
    "#Data normalization(numerical value only)\n",
    "\n",
    "# Min-Max normalization\n",
    "df1_normalized = (df1 - df1.min()) / (df1.max() - df1.min())\n",
    "\n",
    "# Standardization\n",
    "df1_standardized = (df1 - df1.mean()) / df1.std()"
   ]
  },
  {
   "cell_type": "code",
   "execution_count": 40,
   "id": "34cf588e-4993-49bd-9822-13c30f24d535",
   "metadata": {},
   "outputs": [
    {
     "ename": "KeyError",
     "evalue": "\"None of [Index(['Gender'], dtype='object')] are in the [columns]\"",
     "output_type": "error",
     "traceback": [
      "\u001b[1;31m---------------------------------------------------------------------------\u001b[0m",
      "\u001b[1;31mKeyError\u001b[0m                                  Traceback (most recent call last)",
      "Cell \u001b[1;32mIn[40], line 7\u001b[0m\n\u001b[0;32m      4\u001b[0m df1[\u001b[38;5;124m'\u001b[39m\u001b[38;5;124mLog_Age\u001b[39m\u001b[38;5;124m'\u001b[39m] \u001b[38;5;241m=\u001b[39m np\u001b[38;5;241m.\u001b[39mlog(df1[\u001b[38;5;124m'\u001b[39m\u001b[38;5;124mAge\u001b[39m\u001b[38;5;124m'\u001b[39m])\n\u001b[0;32m      6\u001b[0m \u001b[38;5;66;03m# Encoding categorical variables\u001b[39;00m\n\u001b[1;32m----> 7\u001b[0m df1_encoded \u001b[38;5;241m=\u001b[39m pd\u001b[38;5;241m.\u001b[39mget_dummies(df1, columns\u001b[38;5;241m=\u001b[39m[\u001b[38;5;124m'\u001b[39m\u001b[38;5;124mGender\u001b[39m\u001b[38;5;124m'\u001b[39m])\n",
      "File \u001b[1;32m~\\anaconda3\\Lib\\site-packages\\pandas\\core\\reshape\\encoding.py:164\u001b[0m, in \u001b[0;36mget_dummies\u001b[1;34m(data, prefix, prefix_sep, dummy_na, columns, sparse, drop_first, dtype)\u001b[0m\n\u001b[0;32m    162\u001b[0m     \u001b[38;5;28;01mraise\u001b[39;00m \u001b[38;5;167;01mTypeError\u001b[39;00m(\u001b[38;5;124m\"\u001b[39m\u001b[38;5;124mInput must be a list-like for parameter `columns`\u001b[39m\u001b[38;5;124m\"\u001b[39m)\n\u001b[0;32m    163\u001b[0m \u001b[38;5;28;01melse\u001b[39;00m:\n\u001b[1;32m--> 164\u001b[0m     data_to_encode \u001b[38;5;241m=\u001b[39m data[columns]\n\u001b[0;32m    166\u001b[0m \u001b[38;5;66;03m# validate prefixes and separator to avoid silently dropping cols\u001b[39;00m\n\u001b[0;32m    167\u001b[0m \u001b[38;5;28;01mdef\u001b[39;00m \u001b[38;5;21mcheck_len\u001b[39m(item, name: \u001b[38;5;28mstr\u001b[39m):\n",
      "File \u001b[1;32m~\\anaconda3\\Lib\\site-packages\\pandas\\core\\frame.py:3899\u001b[0m, in \u001b[0;36mDataFrame.__getitem__\u001b[1;34m(self, key)\u001b[0m\n\u001b[0;32m   3897\u001b[0m     \u001b[38;5;28;01mif\u001b[39;00m is_iterator(key):\n\u001b[0;32m   3898\u001b[0m         key \u001b[38;5;241m=\u001b[39m \u001b[38;5;28mlist\u001b[39m(key)\n\u001b[1;32m-> 3899\u001b[0m     indexer \u001b[38;5;241m=\u001b[39m \u001b[38;5;28mself\u001b[39m\u001b[38;5;241m.\u001b[39mcolumns\u001b[38;5;241m.\u001b[39m_get_indexer_strict(key, \u001b[38;5;124m\"\u001b[39m\u001b[38;5;124mcolumns\u001b[39m\u001b[38;5;124m\"\u001b[39m)[\u001b[38;5;241m1\u001b[39m]\n\u001b[0;32m   3901\u001b[0m \u001b[38;5;66;03m# take() does not accept boolean indexers\u001b[39;00m\n\u001b[0;32m   3902\u001b[0m \u001b[38;5;28;01mif\u001b[39;00m \u001b[38;5;28mgetattr\u001b[39m(indexer, \u001b[38;5;124m\"\u001b[39m\u001b[38;5;124mdtype\u001b[39m\u001b[38;5;124m\"\u001b[39m, \u001b[38;5;28;01mNone\u001b[39;00m) \u001b[38;5;241m==\u001b[39m \u001b[38;5;28mbool\u001b[39m:\n",
      "File \u001b[1;32m~\\anaconda3\\Lib\\site-packages\\pandas\\core\\indexes\\base.py:6115\u001b[0m, in \u001b[0;36mIndex._get_indexer_strict\u001b[1;34m(self, key, axis_name)\u001b[0m\n\u001b[0;32m   6112\u001b[0m \u001b[38;5;28;01melse\u001b[39;00m:\n\u001b[0;32m   6113\u001b[0m     keyarr, indexer, new_indexer \u001b[38;5;241m=\u001b[39m \u001b[38;5;28mself\u001b[39m\u001b[38;5;241m.\u001b[39m_reindex_non_unique(keyarr)\n\u001b[1;32m-> 6115\u001b[0m \u001b[38;5;28mself\u001b[39m\u001b[38;5;241m.\u001b[39m_raise_if_missing(keyarr, indexer, axis_name)\n\u001b[0;32m   6117\u001b[0m keyarr \u001b[38;5;241m=\u001b[39m \u001b[38;5;28mself\u001b[39m\u001b[38;5;241m.\u001b[39mtake(indexer)\n\u001b[0;32m   6118\u001b[0m \u001b[38;5;28;01mif\u001b[39;00m \u001b[38;5;28misinstance\u001b[39m(key, Index):\n\u001b[0;32m   6119\u001b[0m     \u001b[38;5;66;03m# GH 42790 - Preserve name from an Index\u001b[39;00m\n",
      "File \u001b[1;32m~\\anaconda3\\Lib\\site-packages\\pandas\\core\\indexes\\base.py:6176\u001b[0m, in \u001b[0;36mIndex._raise_if_missing\u001b[1;34m(self, key, indexer, axis_name)\u001b[0m\n\u001b[0;32m   6174\u001b[0m     \u001b[38;5;28;01mif\u001b[39;00m use_interval_msg:\n\u001b[0;32m   6175\u001b[0m         key \u001b[38;5;241m=\u001b[39m \u001b[38;5;28mlist\u001b[39m(key)\n\u001b[1;32m-> 6176\u001b[0m     \u001b[38;5;28;01mraise\u001b[39;00m \u001b[38;5;167;01mKeyError\u001b[39;00m(\u001b[38;5;124mf\u001b[39m\u001b[38;5;124m\"\u001b[39m\u001b[38;5;124mNone of [\u001b[39m\u001b[38;5;132;01m{\u001b[39;00mkey\u001b[38;5;132;01m}\u001b[39;00m\u001b[38;5;124m] are in the [\u001b[39m\u001b[38;5;132;01m{\u001b[39;00maxis_name\u001b[38;5;132;01m}\u001b[39;00m\u001b[38;5;124m]\u001b[39m\u001b[38;5;124m\"\u001b[39m)\n\u001b[0;32m   6178\u001b[0m not_found \u001b[38;5;241m=\u001b[39m \u001b[38;5;28mlist\u001b[39m(ensure_index(key)[missing_mask\u001b[38;5;241m.\u001b[39mnonzero()[\u001b[38;5;241m0\u001b[39m]]\u001b[38;5;241m.\u001b[39munique())\n\u001b[0;32m   6179\u001b[0m \u001b[38;5;28;01mraise\u001b[39;00m \u001b[38;5;167;01mKeyError\u001b[39;00m(\u001b[38;5;124mf\u001b[39m\u001b[38;5;124m\"\u001b[39m\u001b[38;5;132;01m{\u001b[39;00mnot_found\u001b[38;5;132;01m}\u001b[39;00m\u001b[38;5;124m not in index\u001b[39m\u001b[38;5;124m\"\u001b[39m)\n",
      "\u001b[1;31mKeyError\u001b[0m: \"None of [Index(['Gender'], dtype='object')] are in the [columns]\""
     ]
    }
   ],
   "source": [
    "#Data transformation\n",
    "\n",
    "# Log transformation\n",
    "df1['Log_Age'] = np.log(df1['Age'])\n",
    "\n",
    "# Encoding categorical variables\n",
    "df1_encoded = pd.get_dummies(df1, columns=['Gender'])"
   ]
  },
  {
   "cell_type": "code",
   "execution_count": 42,
   "id": "d52b119b-500c-4209-8223-7396d2311dc4",
   "metadata": {},
   "outputs": [],
   "source": [
    "#Data aggregation and grouping\n",
    "\n",
    "# Group by age and calculate mean age\n",
    "age_groups = df1.groupby('Age')\n",
    "mean_age = age_groups['Age'].mean()"
   ]
  },
  {
   "cell_type": "markdown",
   "id": "031c2b87-b507-4ff1-b311-bd94cdcb6bd6",
   "metadata": {},
   "source": [
    "### Advance Pandas"
   ]
  },
  {
   "cell_type": "code",
   "execution_count": 47,
   "id": "a4e6a8b1-f59b-41e9-a7a4-121969105d32",
   "metadata": {},
   "outputs": [],
   "source": [
    "## Merging, Joining, and Concatenating DataFrames\n",
    "\n",
    "#Concatenating DataFrames\n",
    "import pandas as pd\n",
    "\n",
    "# Create sample DataFrames\n",
    "df1 = pd.DataFrame({'A': ['A0', 'A1', 'A2'],\n",
    " 'B': ['B0', 'B1', 'B2']})\n",
    "\n",
    "df2 = pd.DataFrame({'A': ['A3', 'A4', 'A5'],\n",
    " 'B': ['B3', 'B4', 'B5']})\n",
    "\n",
    "# Concatenate along rows\n",
    "result_row = pd.concat([df1, df2])\n",
    "\n",
    "# Concatenate along columns\n",
    "result_col = pd.concat([df1, df2], axis=1)"
   ]
  },
  {
   "cell_type": "code",
   "execution_count": 48,
   "id": "e7e5492e-2184-48ae-a033-dad3d67878b1",
   "metadata": {},
   "outputs": [],
   "source": [
    "#Merging DataFrames\n",
    "\n",
    "# Create sample DataFrames\n",
    "left = pd.DataFrame({'key': ['K0', 'K1', 'K2'],\n",
    " 'value': ['V0', 'V1', 'V2']})\n",
    "\n",
    "right = pd.DataFrame({'key': ['K1', 'K2', 'K3'],\n",
    " 'value': ['V1', 'V2', 'V3']})\n",
    "\n",
    "# Inner join\n",
    "inner_join = pd.merge(left, right, on='key', how='inner')\n",
    "\n",
    "# Left join\n",
    "left_join = pd.merge(left, right, on='key', how='left')\n",
    "\n",
    "# Right join\n",
    "right_join = pd.merge(left, right, on='key', how='right')\n",
    "\n",
    "# Outer join\n",
    "outer_join = pd.merge(left, right, on='key', how='outer')"
   ]
  },
  {
   "cell_type": "code",
   "execution_count": 52,
   "id": "71d39b97-9e32-4252-bd52-10a4fa7af3b2",
   "metadata": {},
   "outputs": [],
   "source": [
    "#Joining DataFrames\n",
    "\n",
    "# Create sample DataFrames\n",
    "left = pd.DataFrame({'value1': [1, 2, 3]}, index=['a', 'b', 'c'])\n",
    "right = pd.DataFrame({'value2': [4, 5, 6]}, index=['a', 'b', 'd'])\n",
    "\n",
    "# Join based on index\n",
    "join_df = left.join(right, how='inner')\n"
   ]
  },
  {
   "cell_type": "code",
   "execution_count": null,
   "id": "6f34324d-55f4-4b52-874d-529ae49230f3",
   "metadata": {},
   "outputs": [],
   "source": []
  }
 ],
 "metadata": {
  "kernelspec": {
   "display_name": "Python 3 (ipykernel)",
   "language": "python",
   "name": "python3"
  },
  "language_info": {
   "codemirror_mode": {
    "name": "ipython",
    "version": 3
   },
   "file_extension": ".py",
   "mimetype": "text/x-python",
   "name": "python",
   "nbconvert_exporter": "python",
   "pygments_lexer": "ipython3",
   "version": "3.11.7"
  }
 },
 "nbformat": 4,
 "nbformat_minor": 5
}
